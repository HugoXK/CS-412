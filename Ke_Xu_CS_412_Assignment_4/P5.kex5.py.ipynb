{
 "cells": [
  {
   "cell_type": "markdown",
   "id": "65eca1cd",
   "metadata": {},
   "source": [
    "This python file is for CS 412 Spring 2022 Semester __Assignment 4 Problem 5__\n",
    "\n",
    "I acknowledge that some of ideas to achieve more efficient computation with numpy and matrix are adpoted from Github resource which can be found here: https://github.com/martinpella/logistic-reg/blob/master/logistic_reg.ipynb\n",
    "\n",
    "Author: __Ke Xu__ (NetID: kex5)\n",
    "\n",
    "Date: __2022.04.25__\n"
   ]
  },
  {
   "cell_type": "code",
   "execution_count": 1,
   "id": "7478856c",
   "metadata": {},
   "outputs": [
    {
     "name": "stdout",
     "output_type": "stream",
     "text": [
      "Successfully load library\n"
     ]
    }
   ],
   "source": [
    "# Import necessary library for data loading/saving and scientific computing\n",
    "\n",
    "import numpy as np\n",
    "import scipy.io as scio\n",
    "import matplotlib.pyplot as plt\n",
    "\n",
    "print(\"Successfully load library\")"
   ]
  },
  {
   "cell_type": "code",
   "execution_count": 2,
   "id": "7f119a8c",
   "metadata": {},
   "outputs": [],
   "source": [
    "# Define functions for training process\n",
    "\n",
    "# Sigmoid function\n",
    "\n",
    "def sigmoid(z):\n",
    "    \n",
    "    return 1.0/(1.0+np.exp(-z))\n",
    "\n",
    "# Calculate accuracy for the test process\n",
    "\n",
    "def accuracy(w,x,y):    \n",
    "    \n",
    "    if ((x.T).shape[0]!=y.shape[0]): # if not same, something wrong happens\n",
    "        \n",
    "        print(\"Error: Inconsistent dimensions! Please check input and try again.\")\n",
    "        \n",
    "        return\n",
    "    \n",
    "    else:\n",
    "        \n",
    "        total_num = y.shape[0]   # training sample size\n",
    "        correct_num = 0.         # correct prediction counter\n",
    "        predict = (sigmoid(np.matmul(w.T,x))).T # ignore bias term\n",
    "        \n",
    "        for i in range(total_num):\n",
    "            \n",
    "            Y = 0\n",
    "            if(predict[i]>0.5): Y = 1\n",
    "            if(Y==y[i]): correct_num+=1  # increment correct counter\n",
    "                \n",
    "        return correct_num/total_num\n",
    "\n",
    "# Calculate loss for the training process\n",
    "def loss(y,predict):\n",
    "    \n",
    "    return np.mean(-np.multiply(y,np.log(predict))-np.multiply((1.0-y),np.log(1.0-predict)),axis=1)\n"
   ]
  },
  {
   "cell_type": "code",
   "execution_count": 3,
   "id": "ad0785c3",
   "metadata": {},
   "outputs": [],
   "source": [
    "# Define plot functions as required\n",
    "\n",
    "def plt_accuracy(accuracy):\n",
    "    \n",
    "    plt.figure(figsize=(15,10))\n",
    "    plt.plot(accuracy)\n",
    "    plt.title(\"Test Accuracy VS. Number of Iterations\")\n",
    "    plt.xlabel(\"Number of Iterations\")\n",
    "    plt.ylabel(\"Test Accuracy\")\n",
    "\n",
    "def plt_loss(loss):\n",
    "    \n",
    "    plt.figure(figsize=(15,10))\n",
    "    plt.plot(loss)\n",
    "    plt.title(\"Training Loss VS. Number of Iterations\")\n",
    "    plt.xlabel(\"Number of Iterations\")\n",
    "    plt.ylabel(\"Training Loss\")"
   ]
  },
  {
   "cell_type": "code",
   "execution_count": 4,
   "id": "0434053d",
   "metadata": {},
   "outputs": [],
   "source": [
    "# Define training process\n",
    "\n",
    "\n",
    "def training_test(w,num,lr,train_data,train_label,test_data,test_label,train_size):\n",
    "    \n",
    "    print(\"Begin training and test process!\")\n",
    "\n",
    "    loss_tuple = []\n",
    "    accuracy_tuple = []\n",
    "\n",
    "    for iteration in range(num):\n",
    "\n",
    "        predict = sigmoid(np.matmul(w.T,train_data.T)) # forward propagation\n",
    "        loss_tuple.append(loss(train_label.T,predict)) # append loss\n",
    "\n",
    "        gradient = np.matmul(train_data.T,(predict-train_label.T).T)/train_size # take gradient\n",
    "        w -= lr*gradient # backward propogation\n",
    "\n",
    "        accuracy_tuple.append(accuracy(w,test_data.T,test_label)) # test accuracy with ground-truth label \n",
    "        print(\"Iteration\",iteration+1,\"test accuracy is\",accuracy_tuple[iteration],\"and training loss is\",loss_tuple[iteration])\n",
    "\n",
    "    print(\"The training and test process for\",num,\"iterations has ended and the plots showing the test accuracy and training loss w.r.t. the number of iterations are:\")\n",
    "    plt_accuracy(accuracy_tuple)\n",
    "    plt_loss(loss_tuple)\n",
    "    \n",
    "    return"
   ]
  },
  {
   "cell_type": "code",
   "execution_count": 5,
   "id": "67ccf340",
   "metadata": {},
   "outputs": [
    {
     "name": "stdout",
     "output_type": "stream",
     "text": [
      "Successfully load data\n"
     ]
    }
   ],
   "source": [
    "# Load train and test data\n",
    "train = scio.loadmat(\"train_data.mat\")\n",
    "test = scio.loadmat(\"test_data.mat\")\n",
    "\n",
    "# Seperate data and label\n",
    "train_data = train['X']\n",
    "train_label = train['Y']\n",
    "test_data = test['X']\n",
    "test_label = test['Y']\n",
    "\n",
    "print(\"Successfully load data\")\n"
   ]
  },
  {
   "cell_type": "code",
   "execution_count": 6,
   "id": "a4c226fa",
   "metadata": {
    "scrolled": false
   },
   "outputs": [],
   "source": [
    "# Initialize parameters\n",
    "\n",
    "w = np.zeros(shape=(784,1)) # zero-initialize weight vector 784*1 \n",
    "num = 100 # number of iterations\n",
    "lr = 0.1 # learning rate\n",
    "train_size = 784"
   ]
  },
  {
   "cell_type": "code",
   "execution_count": 7,
   "id": "fce0f798",
   "metadata": {
    "scrolled": false
   },
   "outputs": [
    {
     "name": "stdout",
     "output_type": "stream",
     "text": [
      "Begin training and test process!\n",
      "Iteration 1 test accuracy is 0.8865 and training loss is [0.69314718]\n",
      "Iteration 2 test accuracy is 0.8865 and training loss is [7.43182382]\n",
      "Iteration 3 test accuracy is 0.8872 and training loss is [4.64535508]\n",
      "Iteration 4 test accuracy is 0.976 and training loss is [1.86218534]\n",
      "Iteration 5 test accuracy is 0.9811 and training loss is [0.28066443]\n",
      "Iteration 6 test accuracy is 0.9828 and training loss is [0.19333688]\n",
      "Iteration 7 test accuracy is 0.9841 and training loss is [0.1681243]\n",
      "Iteration 8 test accuracy is 0.9845 and training loss is [0.15786886]\n",
      "Iteration 9 test accuracy is 0.9848 and training loss is [0.15177399]\n",
      "Iteration 10 test accuracy is 0.985 and training loss is [0.14701585]\n",
      "Iteration 11 test accuracy is 0.9854 and training loss is [0.14279055]\n",
      "Iteration 12 test accuracy is 0.9858 and training loss is [0.1388678]\n",
      "Iteration 13 test accuracy is 0.9861 and training loss is [0.13517701]\n",
      "Iteration 14 test accuracy is 0.9863 and training loss is [0.1316911]\n",
      "Iteration 15 test accuracy is 0.9867 and training loss is [0.12839469]\n",
      "Iteration 16 test accuracy is 0.9872 and training loss is [0.12527557]\n",
      "Iteration 17 test accuracy is 0.9874 and training loss is [0.12232251]\n",
      "Iteration 18 test accuracy is 0.9876 and training loss is [0.11952478]\n",
      "Iteration 19 test accuracy is 0.9879 and training loss is [0.11687205]\n",
      "Iteration 20 test accuracy is 0.9881 and training loss is [0.11435443]\n",
      "Iteration 21 test accuracy is 0.9885 and training loss is [0.11196245]\n",
      "Iteration 22 test accuracy is 0.9885 and training loss is [0.10968711]\n",
      "Iteration 23 test accuracy is 0.9887 and training loss is [0.10751992]\n",
      "Iteration 24 test accuracy is 0.989 and training loss is [0.10545292]\n",
      "Iteration 25 test accuracy is 0.9895 and training loss is [0.10347878]\n",
      "Iteration 26 test accuracy is 0.9894 and training loss is [0.10159086]\n",
      "Iteration 27 test accuracy is 0.9895 and training loss is [0.0997832]\n",
      "Iteration 28 test accuracy is 0.9895 and training loss is [0.09805054]\n",
      "Iteration 29 test accuracy is 0.9895 and training loss is [0.09638824]\n",
      "Iteration 30 test accuracy is 0.9896 and training loss is [0.09479216]\n",
      "Iteration 31 test accuracy is 0.9897 and training loss is [0.09325862]\n",
      "Iteration 32 test accuracy is 0.9899 and training loss is [0.09178429]\n",
      "Iteration 33 test accuracy is 0.9902 and training loss is [0.09036614]\n",
      "Iteration 34 test accuracy is 0.9904 and training loss is [0.08900135]\n",
      "Iteration 35 test accuracy is 0.9903 and training loss is [0.08768726]\n",
      "Iteration 36 test accuracy is 0.9905 and training loss is [0.08642135]\n",
      "Iteration 37 test accuracy is 0.9906 and training loss is [0.0852012]\n",
      "Iteration 38 test accuracy is 0.9906 and training loss is [0.08402448]\n",
      "Iteration 39 test accuracy is 0.9911 and training loss is [0.08288897]\n",
      "Iteration 40 test accuracy is 0.9912 and training loss is [0.08179257]\n",
      "Iteration 41 test accuracy is 0.9913 and training loss is [0.08073328]\n",
      "Iteration 42 test accuracy is 0.9913 and training loss is [0.07970928]\n",
      "Iteration 43 test accuracy is 0.9914 and training loss is [0.07871885]\n",
      "Iteration 44 test accuracy is 0.9913 and training loss is [0.07776041]\n",
      "Iteration 45 test accuracy is 0.9913 and training loss is [0.07683247]\n",
      "Iteration 46 test accuracy is 0.9913 and training loss is [0.07593368]\n",
      "Iteration 47 test accuracy is 0.9914 and training loss is [0.07506273]\n",
      "Iteration 48 test accuracy is 0.9916 and training loss is [0.07421841]\n",
      "Iteration 49 test accuracy is 0.9917 and training loss is [0.07339954]\n",
      "Iteration 50 test accuracy is 0.9917 and training loss is [0.07260501]\n",
      "Iteration 51 test accuracy is 0.9917 and training loss is [0.07183374]\n",
      "Iteration 52 test accuracy is 0.9918 and training loss is [0.07108469]\n",
      "Iteration 53 test accuracy is 0.9917 and training loss is [0.07035686]\n",
      "Iteration 54 test accuracy is 0.9917 and training loss is [0.06964929]\n",
      "Iteration 55 test accuracy is 0.9918 and training loss is [0.06896106]\n",
      "Iteration 56 test accuracy is 0.9918 and training loss is [0.06829126]\n",
      "Iteration 57 test accuracy is 0.9919 and training loss is [0.06763907]\n",
      "Iteration 58 test accuracy is 0.9918 and training loss is [0.06700367]\n",
      "Iteration 59 test accuracy is 0.9918 and training loss is [0.06638431]\n",
      "Iteration 60 test accuracy is 0.9918 and training loss is [0.06578026]\n",
      "Iteration 61 test accuracy is 0.9919 and training loss is [0.06519085]\n",
      "Iteration 62 test accuracy is 0.9919 and training loss is [0.06461545]\n",
      "Iteration 63 test accuracy is 0.992 and training loss is [0.06405345]\n",
      "Iteration 64 test accuracy is 0.992 and training loss is [0.06350431]\n",
      "Iteration 65 test accuracy is 0.9922 and training loss is [0.06296749]\n",
      "Iteration 66 test accuracy is 0.9922 and training loss is [0.06244251]\n",
      "Iteration 67 test accuracy is 0.9922 and training loss is [0.06192892]\n",
      "Iteration 68 test accuracy is 0.9923 and training loss is [0.06142629]\n",
      "Iteration 69 test accuracy is 0.9925 and training loss is [0.06093421]\n",
      "Iteration 70 test accuracy is 0.9924 and training loss is [0.06045232]\n",
      "Iteration 71 test accuracy is 0.9924 and training loss is [0.05998027]\n",
      "Iteration 72 test accuracy is 0.9924 and training loss is [0.05951771]\n",
      "Iteration 73 test accuracy is 0.9925 and training loss is [0.05906434]\n",
      "Iteration 74 test accuracy is 0.9925 and training loss is [0.05861987]\n",
      "Iteration 75 test accuracy is 0.9926 and training loss is [0.05818401]\n",
      "Iteration 76 test accuracy is 0.9926 and training loss is [0.05775649]\n",
      "Iteration 77 test accuracy is 0.9926 and training loss is [0.05733706]\n",
      "Iteration 78 test accuracy is 0.9927 and training loss is [0.05692547]\n",
      "Iteration 79 test accuracy is 0.9927 and training loss is [0.05652149]\n",
      "Iteration 80 test accuracy is 0.9927 and training loss is [0.05612489]\n",
      "Iteration 81 test accuracy is 0.9927 and training loss is [0.05573546]\n",
      "Iteration 82 test accuracy is 0.9928 and training loss is [0.05535299]\n",
      "Iteration 83 test accuracy is 0.9928 and training loss is [0.05497727]\n",
      "Iteration 84 test accuracy is 0.9928 and training loss is [0.05460812]\n",
      "Iteration 85 test accuracy is 0.9929 and training loss is [0.05424534]\n",
      "Iteration 86 test accuracy is 0.9929 and training loss is [0.05388875]\n",
      "Iteration 87 test accuracy is 0.9929 and training loss is [0.05353818]\n",
      "Iteration 88 test accuracy is 0.9929 and training loss is [0.05319346]\n",
      "Iteration 89 test accuracy is 0.9929 and training loss is [0.05285442]\n",
      "Iteration 90 test accuracy is 0.993 and training loss is [0.05252091]\n",
      "Iteration 91 test accuracy is 0.993 and training loss is [0.05219277]\n",
      "Iteration 92 test accuracy is 0.9929 and training loss is [0.05186985]\n",
      "Iteration 93 test accuracy is 0.9929 and training loss is [0.05155201]\n",
      "Iteration 94 test accuracy is 0.9929 and training loss is [0.05123912]\n",
      "Iteration 95 test accuracy is 0.9929 and training loss is [0.05093103]\n",
      "Iteration 96 test accuracy is 0.9929 and training loss is [0.05062763]\n",
      "Iteration 97 test accuracy is 0.9929 and training loss is [0.05032878]\n",
      "Iteration 98 test accuracy is 0.9929 and training loss is [0.05003437]\n",
      "Iteration 99 test accuracy is 0.9929 and training loss is [0.04974427]\n",
      "Iteration 100 test accuracy is 0.9929 and training loss is [0.04945839]\n",
      "The training and test process for 100 iterations has ended and the plots showing the test accuracy and training loss w.r.t. the number of iterations are:\n"
     ]
    },
    {
     "data": {
      "image/png": "[encoded data removed]",
      "text/plain": [
       "<Figure size 1080x720 with 1 Axes>"
      ]
     },
     "metadata": {
      "needs_background": "light"
     },
     "output_type": "display_data"
    },
    {
     "data": {
      "image/png": "[encoded data removed]",
      "text/plain": [
       "<Figure size 1080x720 with 1 Axes>"
      ]
     },
     "metadata": {
      "needs_background": "light"
     },
     "output_type": "display_data"
    }
   ],
   "source": [
    "# Start training and test\n",
    "\n",
    "training_test(w,num,lr,train_data,train_label,test_data,test_label,train_size)"
   ]
  }
 ],
 "metadata": {
  "kernelspec": {
   "display_name": "Python 3 (ipykernel)",
   "language": "python",
   "name": "python3"
  },
  "language_info": {
   "codemirror_mode": {
    "name": "ipython",
    "version": 3
   },
   "file_extension": ".py",
   "mimetype": "text/x-python",
   "name": "python",
   "nbconvert_exporter": "python",
   "pygments_lexer": "ipython3",
   "version": "3.9.7"
  }
 },
 "nbformat": 4,
 "nbformat_minor": 5
}
