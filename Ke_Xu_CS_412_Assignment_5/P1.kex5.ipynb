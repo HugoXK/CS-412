{
 "cells": [
  {
   "cell_type": "markdown",
   "id": "c0d9aed9",
   "metadata": {},
   "source": [
    "This python file is for CS 412 Spring 2022 Semester __Assignment 5 Problem 1__\n",
    "\n",
    "I acknowledge that some of ideas to assign and update points are adopted from Github resource which can be found here: https://github.com/stuntgoat/kmeans/blob/master/kmeans.py\n",
    "\n",
    "Author: __Ke Xu__ (NetID: kex5)\n",
    "\n",
    "Date: __2022.04.26__"
   ]
  },
  {
   "cell_type": "code",
   "execution_count": 1,
   "id": "8d76e051",
   "metadata": {},
   "outputs": [
    {
     "name": "stdout",
     "output_type": "stream",
     "text": [
      "Successfully load library\n"
     ]
    }
   ],
   "source": [
    "# Import necessary library for data loading/saving and scientific computing\n",
    "\n",
    "import numpy as np\n",
    "import matplotlib.pyplot as plt\n",
    "import random as rd\n",
    "#import pandas as pd\n",
    "\n",
    "print(\"Successfully load library\")"
   ]
  },
  {
   "cell_type": "code",
   "execution_count": 2,
   "id": "5fdf505e",
   "metadata": {},
   "outputs": [],
   "source": [
    "# Define some basic mathematics functions\n",
    "\n",
    "# sse() to get the sum of squared error which represents the distance\n",
    "def sse(data,centroid):\n",
    "    \n",
    "    sum = 0\n",
    "    for i in range(9):\n",
    "        sum += (data[i]-centroid[i])**2\n",
    "        \n",
    "    return sum\n",
    "\n",
    "\n",
    "# argmin() to get the minimum index while assigning cluster\n",
    "def argmin(distance):\n",
    "    \n",
    "    min_index = 0\n",
    "    for index in range(len(distance)): \n",
    "        if (distance[index]<distance[min_index]): min_index = index\n",
    "            \n",
    "    return min_index\n",
    "        \n",
    "# loss() to get the current loss  \n",
    "def loss(clusters):\n",
    "    \n",
    "    loss = 0\n",
    "    for cluster_centroid in clusters.keys():\n",
    "        for sample_point in clusters[cluster_centroid]:\n",
    "            loss += sse(cluster_centroid,sample_point)\n",
    "            \n",
    "    return loss\n",
    "\n",
    "# coverge() use two pointer to check whether algorithm converges or not\n",
    "def converge(new_clusters,old_clusters):\n",
    "    for i in new_clusters.keys():\n",
    "        all_match = False\n",
    "        for j in old_clusters.keys():\n",
    "            if (all_match == True): break\n",
    "            else:\n",
    "                new_cluster = new_clusters[i]\n",
    "                old_cluster = old_clusters[j]\n",
    "                if (len(new_cluster)!=len(old_cluster)): continue\n",
    "                else:\n",
    "                    new_unmatch = False\n",
    "                    for x in new_cluster:\n",
    "                        if x not in old_cluster:\n",
    "                            new_unmatch = True\n",
    "                            break\n",
    "                    if (new_unmatch == True): break\n",
    "                    else:\n",
    "                        old_unmatch = False\n",
    "                        for y in old_cluster:\n",
    "                            if y not in new_cluster:\n",
    "                                old_unmatch = True\n",
    "                                break\n",
    "                        if (old_unmatch == True): break\n",
    "                        all_match = True\n",
    "            \n",
    "        if (all_match == False):\n",
    "            return False\n",
    "    return True\n",
    "\n",
    "# tuplify() to transform list to tuple to use dictionary\n",
    "def tuplify(dataset):\n",
    "    temp = []\n",
    "    for data in dataset:\n",
    "        temp.append(tuple(data))\n",
    "    return temp\n",
    "\n",
    "# listify() to transform tuple to list\n",
    "def listify(dataset):\n",
    "    temp = []\n",
    "    for data in dataset:\n",
    "        temp.append(list(data))\n",
    "    return temp\n",
    "\n",
    "\n",
    "# dictionarize() to construct dictionary with given data\n",
    "def dictionarize(dataset):\n",
    "    dictionary = {}\n",
    "    for data in dataset:\n",
    "        dictionary[data] = []\n",
    "    return dictionary"
   ]
  },
  {
   "cell_type": "code",
   "execution_count": 3,
   "id": "2893dfed",
   "metadata": {},
   "outputs": [],
   "source": [
    "# Define functions for clusters\n",
    "\n",
    "# assign_cluster to assign the data to the closet cluster\n",
    "def assign_cluster(k,centers,data_matrix,new_clusters):\n",
    "\n",
    "    for i in data_matrix: \n",
    "        distance_dictionary = {}   \n",
    "        for j in range(k):       \n",
    "            distance_dictionary[centers[j]] = sse(i,centers[j])        \n",
    "        closet = min(distance_dictionary,key=distance_dictionary.get)      \n",
    "        data_list = list(new_clusters[closet])\n",
    "        data_list.append(i)\n",
    "        new_clusters[closet] = data_list\n",
    "        \n",
    "    return new_clusters\n",
    "    \n",
    "# update the centroid based on new assignment\n",
    "def recompute_centroid(centers,clusters):\n",
    "    \n",
    "    new_centers = []\n",
    "    for center in centers:\n",
    "        cluster = clusters[center]\n",
    "        new_centers.append(tuple(np.mean(listify(cluster),axis=0))) \n",
    "         \n",
    "    return new_centers\n"
   ]
  },
  {
   "cell_type": "code",
   "execution_count": 4,
   "id": "f809e872",
   "metadata": {},
   "outputs": [],
   "source": [
    "# Define K-Means algorithm\n",
    "\n",
    "def k_means(k,data):\n",
    "    \n",
    "    random_seed = 42 # set random seed to be 42\n",
    "    rd.seed(random_seed) # usually we can get best result with random_seed 42\n",
    "    \n",
    "    centers = tuplify(rd.sample(data_matrix,k)) # sample k data points randomly and independantly and transform into tuple for dictionary\n",
    "        \n",
    "    old_clusters = dictionarize(centers) # build dictionary for reference\n",
    "         \n",
    "    while(1): # always continue except break condition happens\n",
    "        \n",
    "        new_clusters = dictionarize(centers) # build new dictionary for assignment\n",
    "        new_clusters = assign_cluster(k,centers,data_matrix,new_clusters) # clluster assignment\n",
    "        \n",
    "        centers = recompute_centroid(centers,new_clusters)\n",
    "        \n",
    "        if (converge(old_clusters,new_clusters)): break # checkpoint for convergence\n",
    "        old_clusters = new_clusters # update cluster and continue next iteration\n",
    "        \n",
    "    loss_vector.append(loss(new_clusters)) \n",
    "    \n",
    "    return"
   ]
  },
  {
   "cell_type": "code",
   "execution_count": 5,
   "id": "c3bc97b9",
   "metadata": {},
   "outputs": [],
   "source": [
    "# Define plot function as required result\n",
    "\n",
    "def plt_loss_k(k,loss):\n",
    "    \n",
    "    plt.figure(figsize=(15,10))\n",
    "    plt.plot(k,loss)\n",
    "    plt.title(\"The curve of L(K) vs. k\")\n",
    "    plt.xlabel(\"k\")\n",
    "    plt.ylabel(\"L(k)\")\n",
    "    \n",
    "    return"
   ]
  },
  {
   "cell_type": "code",
   "execution_count": 6,
   "id": "68eceaa5",
   "metadata": {},
   "outputs": [
    {
     "name": "stdout",
     "output_type": "stream",
     "text": [
      "Successfully load data\n"
     ]
    }
   ],
   "source": [
    "# Load data with filtering missing data\n",
    "\n",
    "#colname = ['example_id','f1','f2','f3','f4','f5','f6','f7','f8','f9','class_label'] # fi denote i-th feature\n",
    "#data_set = pd.read_csv('breast-cancer-wisconsin.data',names = colname ) # load data\n",
    "\n",
    "data_matrix = [] # represent the data with row and column structure\n",
    "\n",
    "with open (file = 'breast-cancer-wisconsin.data') as data_file:\n",
    "    data_lines = data_file.read().splitlines() # split each data sample\n",
    "\n",
    "for row in data_lines:\n",
    "    data_vector = [] # represent the data with row structure\n",
    "    features = row.split(\",\") # split each feature in every line\n",
    "    if '?' in features: continue # if missing data, ignore this sample\n",
    "    for column_index in range(10): # 9 features\n",
    "        data_vector.append(int(features[column_index+1]))\n",
    "    data_matrix.append(tuple(data_vector))\n",
    "    \n",
    "print(\"Successfully load data\")"
   ]
  },
  {
   "cell_type": "code",
   "execution_count": 7,
   "id": "f936b5c1",
   "metadata": {},
   "outputs": [
    {
     "name": "stdout",
     "output_type": "stream",
     "text": [
      "Successfully initialize parameters\n"
     ]
    }
   ],
   "source": [
    "# Initialize parameters\n",
    "\n",
    "#random_seed = 42 # set random seed to be 42\n",
    "#rd.seed(random_seed) # usually we can get best result with random_seed 42\n",
    "k = [2,3,4,5,6,7,8] # k values for k-means\n",
    "loss_vector = []\n",
    "\n",
    "print(\"Successfully initialize parameters\")"
   ]
  },
  {
   "cell_type": "code",
   "execution_count": 8,
   "id": "2a08cfe8",
   "metadata": {},
   "outputs": [
    {
     "name": "stdout",
     "output_type": "stream",
     "text": [
      "The clustering process begins!\n",
      "The clustering process ends!\n",
      "The relation between L(k) and k is shown as following:\n"
     ]
    },
    {
     "data": {
      "image/png": "[encoded data removed]",
      "text/plain": [
       "<Figure size 1080x720 with 1 Axes>"
      ]
     },
     "metadata": {
      "needs_background": "light"
     },
     "output_type": "display_data"
    }
   ],
   "source": [
    "print(\"The clustering process begins!\")\n",
    "\n",
    "for i in range(len(k)):\n",
    "    \n",
    "    k_means(k[i],data_matrix)\n",
    "    \n",
    "print(\"The clustering process ends!\\nThe relation between L(k) and k is shown as following:\")\n",
    "plt_loss_k(k,loss_vector)"
   ]
  }
 ],
 "metadata": {
  "kernelspec": {
   "display_name": "Python 3 (ipykernel)",
   "language": "python",
   "name": "python3"
  },
  "language_info": {
   "codemirror_mode": {
    "name": "ipython",
    "version": 3
   },
   "file_extension": ".py",
   "mimetype": "text/x-python",
   "name": "python",
   "nbconvert_exporter": "python",
   "pygments_lexer": "ipython3",
   "version": "3.9.7"
  }
 },
 "nbformat": 4,
 "nbformat_minor": 5
}
